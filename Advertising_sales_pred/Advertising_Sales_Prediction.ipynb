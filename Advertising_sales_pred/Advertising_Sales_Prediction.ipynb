{
 "cells": [
  {
   "cell_type": "markdown",
   "id": "d361fb3b",
   "metadata": {},
   "source": [
    "Problem Statement:\n",
    "When a company enters a market, the distribution strategy and channel it uses are keys to its success in the market, as well as market know-how and customer knowledge and understanding. Because an effective distribution strategy under efficient supply-chain management opens doors for attaining competitive advantage and strong brand equity in the market, it is a component of the marketing mix that cannot be ignored .\n",
    "The distribution strategy and the channel design have to be right the first time. The case study of Sales channel includes the detailed study of TV, radio and newspaper channel. The predict the total sales generated from all the sales channel."
   ]
  },
  {
   "cell_type": "code",
   "execution_count": 37,
   "id": "77f93b3b",
   "metadata": {},
   "outputs": [],
   "source": [
    "import pandas as pd\n",
    "import numpy as np\n",
    "import seaborn as sns\n",
    "import matplotlib.pyplot as plt\n",
    "%matplotlib inline\n",
    "from sklearn.utils import shuffle\n",
    "from sklearn.decomposition import PCA\n",
    "from sklearn.preprocessing import StandardScaler\n",
    "from sklearn.model_selection import train_test_split,GridSearchCV,cross_val_score\n",
    "import scipy.stats as stats\n",
    "from scipy.stats import zscore\n",
    "from sklearn.metrics import mean_squared_error,mean_absolute_error,r2_score\n",
    "from sklearn.linear_model import LinearRegression\n",
    "from sklearn.svm import NuSVR,SVR\n",
    "from sklearn.neural_network import MLPRegressor\n",
    "from sklearn.tree import ExtraTreeRegressor\n",
    "from sklearn.ensemble import GradientBoostingRegressor,BaggingRegressor,RandomForestRegressor\n",
    "from sklearn.neighbors import KNeighborsRegressor\n",
    "import joblib\n",
    "import warnings\n",
    "warnings.filterwarnings('ignore')"
   ]
  },
  {
   "cell_type": "markdown",
   "id": "10595403",
   "metadata": {},
   "source": [
    "###### Uploading dataset"
   ]
  },
  {
   "cell_type": "code",
   "execution_count": 2,
   "id": "fb17f303",
   "metadata": {},
   "outputs": [
    {
     "data": {
      "text/html": [
       "<div>\n",
       "<style scoped>\n",
       "    .dataframe tbody tr th:only-of-type {\n",
       "        vertical-align: middle;\n",
       "    }\n",
       "\n",
       "    .dataframe tbody tr th {\n",
       "        vertical-align: top;\n",
       "    }\n",
       "\n",
       "    .dataframe thead th {\n",
       "        text-align: right;\n",
       "    }\n",
       "</style>\n",
       "<table border=\"1\" class=\"dataframe\">\n",
       "  <thead>\n",
       "    <tr style=\"text-align: right;\">\n",
       "      <th></th>\n",
       "      <th>Unnamed: 0</th>\n",
       "      <th>TV</th>\n",
       "      <th>radio</th>\n",
       "      <th>newspaper</th>\n",
       "      <th>sales</th>\n",
       "    </tr>\n",
       "  </thead>\n",
       "  <tbody>\n",
       "    <tr>\n",
       "      <th>0</th>\n",
       "      <td>1</td>\n",
       "      <td>230.10</td>\n",
       "      <td>37.80</td>\n",
       "      <td>69.20</td>\n",
       "      <td>22.10</td>\n",
       "    </tr>\n",
       "    <tr>\n",
       "      <th>1</th>\n",
       "      <td>2</td>\n",
       "      <td>44.50</td>\n",
       "      <td>39.30</td>\n",
       "      <td>45.10</td>\n",
       "      <td>10.40</td>\n",
       "    </tr>\n",
       "    <tr>\n",
       "      <th>2</th>\n",
       "      <td>3</td>\n",
       "      <td>17.20</td>\n",
       "      <td>45.90</td>\n",
       "      <td>69.30</td>\n",
       "      <td>9.30</td>\n",
       "    </tr>\n",
       "    <tr>\n",
       "      <th>3</th>\n",
       "      <td>4</td>\n",
       "      <td>151.50</td>\n",
       "      <td>41.30</td>\n",
       "      <td>58.50</td>\n",
       "      <td>18.50</td>\n",
       "    </tr>\n",
       "    <tr>\n",
       "      <th>4</th>\n",
       "      <td>5</td>\n",
       "      <td>180.80</td>\n",
       "      <td>10.80</td>\n",
       "      <td>58.40</td>\n",
       "      <td>12.90</td>\n",
       "    </tr>\n",
       "  </tbody>\n",
       "</table>\n",
       "</div>"
      ],
      "text/plain": [
       "   Unnamed: 0     TV  radio  newspaper  sales\n",
       "0           1 230.10  37.80      69.20  22.10\n",
       "1           2  44.50  39.30      45.10  10.40\n",
       "2           3  17.20  45.90      69.30   9.30\n",
       "3           4 151.50  41.30      58.50  18.50\n",
       "4           5 180.80  10.80      58.40  12.90"
      ]
     },
     "execution_count": 2,
     "metadata": {},
     "output_type": "execute_result"
    }
   ],
   "source": [
    "df=pd.read_csv('Advertising.csv')\n",
    "df.head()"
   ]
  },
  {
   "cell_type": "markdown",
   "id": "6664190e",
   "metadata": {},
   "source": [
    "###### unnamed column isn't relevant to the dataset"
   ]
  },
  {
   "cell_type": "code",
   "execution_count": 3,
   "id": "5d129fed",
   "metadata": {},
   "outputs": [
    {
     "data": {
      "text/html": [
       "<div>\n",
       "<style scoped>\n",
       "    .dataframe tbody tr th:only-of-type {\n",
       "        vertical-align: middle;\n",
       "    }\n",
       "\n",
       "    .dataframe tbody tr th {\n",
       "        vertical-align: top;\n",
       "    }\n",
       "\n",
       "    .dataframe thead th {\n",
       "        text-align: right;\n",
       "    }\n",
       "</style>\n",
       "<table border=\"1\" class=\"dataframe\">\n",
       "  <thead>\n",
       "    <tr style=\"text-align: right;\">\n",
       "      <th></th>\n",
       "      <th>TV</th>\n",
       "      <th>radio</th>\n",
       "      <th>newspaper</th>\n",
       "      <th>sales</th>\n",
       "    </tr>\n",
       "  </thead>\n",
       "  <tbody>\n",
       "    <tr>\n",
       "      <th>0</th>\n",
       "      <td>230.10</td>\n",
       "      <td>37.80</td>\n",
       "      <td>69.20</td>\n",
       "      <td>22.10</td>\n",
       "    </tr>\n",
       "    <tr>\n",
       "      <th>1</th>\n",
       "      <td>44.50</td>\n",
       "      <td>39.30</td>\n",
       "      <td>45.10</td>\n",
       "      <td>10.40</td>\n",
       "    </tr>\n",
       "    <tr>\n",
       "      <th>2</th>\n",
       "      <td>17.20</td>\n",
       "      <td>45.90</td>\n",
       "      <td>69.30</td>\n",
       "      <td>9.30</td>\n",
       "    </tr>\n",
       "    <tr>\n",
       "      <th>3</th>\n",
       "      <td>151.50</td>\n",
       "      <td>41.30</td>\n",
       "      <td>58.50</td>\n",
       "      <td>18.50</td>\n",
       "    </tr>\n",
       "    <tr>\n",
       "      <th>4</th>\n",
       "      <td>180.80</td>\n",
       "      <td>10.80</td>\n",
       "      <td>58.40</td>\n",
       "      <td>12.90</td>\n",
       "    </tr>\n",
       "    <tr>\n",
       "      <th>...</th>\n",
       "      <td>...</td>\n",
       "      <td>...</td>\n",
       "      <td>...</td>\n",
       "      <td>...</td>\n",
       "    </tr>\n",
       "    <tr>\n",
       "      <th>195</th>\n",
       "      <td>38.20</td>\n",
       "      <td>3.70</td>\n",
       "      <td>13.80</td>\n",
       "      <td>7.60</td>\n",
       "    </tr>\n",
       "    <tr>\n",
       "      <th>196</th>\n",
       "      <td>94.20</td>\n",
       "      <td>4.90</td>\n",
       "      <td>8.10</td>\n",
       "      <td>9.70</td>\n",
       "    </tr>\n",
       "    <tr>\n",
       "      <th>197</th>\n",
       "      <td>177.00</td>\n",
       "      <td>9.30</td>\n",
       "      <td>6.40</td>\n",
       "      <td>12.80</td>\n",
       "    </tr>\n",
       "    <tr>\n",
       "      <th>198</th>\n",
       "      <td>283.60</td>\n",
       "      <td>42.00</td>\n",
       "      <td>66.20</td>\n",
       "      <td>25.50</td>\n",
       "    </tr>\n",
       "    <tr>\n",
       "      <th>199</th>\n",
       "      <td>232.10</td>\n",
       "      <td>8.60</td>\n",
       "      <td>8.70</td>\n",
       "      <td>13.40</td>\n",
       "    </tr>\n",
       "  </tbody>\n",
       "</table>\n",
       "<p>200 rows × 4 columns</p>\n",
       "</div>"
      ],
      "text/plain": [
       "        TV  radio  newspaper  sales\n",
       "0   230.10  37.80      69.20  22.10\n",
       "1    44.50  39.30      45.10  10.40\n",
       "2    17.20  45.90      69.30   9.30\n",
       "3   151.50  41.30      58.50  18.50\n",
       "4   180.80  10.80      58.40  12.90\n",
       "..     ...    ...        ...    ...\n",
       "195  38.20   3.70      13.80   7.60\n",
       "196  94.20   4.90       8.10   9.70\n",
       "197 177.00   9.30       6.40  12.80\n",
       "198 283.60  42.00      66.20  25.50\n",
       "199 232.10   8.60       8.70  13.40\n",
       "\n",
       "[200 rows x 4 columns]"
      ]
     },
     "execution_count": 3,
     "metadata": {},
     "output_type": "execute_result"
    }
   ],
   "source": [
    "df=df.drop(['Unnamed: 0'],axis=1)\n",
    "df"
   ]
  },
  {
   "cell_type": "markdown",
   "id": "41435b2c",
   "metadata": {},
   "source": [
    "### EDA"
   ]
  },
  {
   "cell_type": "code",
   "execution_count": 4,
   "id": "cca59e3f",
   "metadata": {
    "scrolled": true
   },
   "outputs": [
    {
     "name": "stdout",
     "output_type": "stream",
     "text": [
      "Number of rows x columns in dataset are: (200, 4)\n"
     ]
    }
   ],
   "source": [
    "print('Number of rows x columns in dataset are:',df.shape)"
   ]
  },
  {
   "cell_type": "code",
   "execution_count": 5,
   "id": "8d51982e",
   "metadata": {
    "scrolled": true
   },
   "outputs": [
    {
     "name": "stdout",
     "output_type": "stream",
     "text": [
      "Dataset contains any null values: False\n"
     ]
    }
   ],
   "source": [
    "print('Dataset contains any null values:',df.isnull().values.any())"
   ]
  },
  {
   "cell_type": "code",
   "execution_count": 6,
   "id": "fd6dc571",
   "metadata": {
    "scrolled": true
   },
   "outputs": [
    {
     "name": "stdout",
     "output_type": "stream",
     "text": [
      "<class 'pandas.core.frame.DataFrame'>\n",
      "RangeIndex: 200 entries, 0 to 199\n",
      "Data columns (total 4 columns):\n",
      " #   Column     Non-Null Count  Dtype  \n",
      "---  ------     --------------  -----  \n",
      " 0   TV         200 non-null    float64\n",
      " 1   radio      200 non-null    float64\n",
      " 2   newspaper  200 non-null    float64\n",
      " 3   sales      200 non-null    float64\n",
      "dtypes: float64(4)\n",
      "memory usage: 6.4 KB\n"
     ]
    }
   ],
   "source": [
    "df.info()"
   ]
  },
  {
   "cell_type": "markdown",
   "id": "ca53d791",
   "metadata": {},
   "source": [
    "##### sales is target variable\n",
    "all column are numeric datatype "
   ]
  },
  {
   "cell_type": "code",
   "execution_count": 7,
   "id": "a523f482",
   "metadata": {},
   "outputs": [
    {
     "data": {
      "text/html": [
       "<div>\n",
       "<style scoped>\n",
       "    .dataframe tbody tr th:only-of-type {\n",
       "        vertical-align: middle;\n",
       "    }\n",
       "\n",
       "    .dataframe tbody tr th {\n",
       "        vertical-align: top;\n",
       "    }\n",
       "\n",
       "    .dataframe thead th {\n",
       "        text-align: right;\n",
       "    }\n",
       "</style>\n",
       "<table border=\"1\" class=\"dataframe\">\n",
       "  <thead>\n",
       "    <tr style=\"text-align: right;\">\n",
       "      <th></th>\n",
       "      <th>TV</th>\n",
       "      <th>radio</th>\n",
       "      <th>newspaper</th>\n",
       "      <th>sales</th>\n",
       "    </tr>\n",
       "  </thead>\n",
       "  <tbody>\n",
       "    <tr>\n",
       "      <th>count</th>\n",
       "      <td>200.00</td>\n",
       "      <td>200.00</td>\n",
       "      <td>200.00</td>\n",
       "      <td>200.00</td>\n",
       "    </tr>\n",
       "    <tr>\n",
       "      <th>mean</th>\n",
       "      <td>147.04</td>\n",
       "      <td>23.26</td>\n",
       "      <td>30.55</td>\n",
       "      <td>14.02</td>\n",
       "    </tr>\n",
       "    <tr>\n",
       "      <th>std</th>\n",
       "      <td>85.85</td>\n",
       "      <td>14.85</td>\n",
       "      <td>21.78</td>\n",
       "      <td>5.22</td>\n",
       "    </tr>\n",
       "    <tr>\n",
       "      <th>min</th>\n",
       "      <td>0.70</td>\n",
       "      <td>0.00</td>\n",
       "      <td>0.30</td>\n",
       "      <td>1.60</td>\n",
       "    </tr>\n",
       "    <tr>\n",
       "      <th>25%</th>\n",
       "      <td>74.38</td>\n",
       "      <td>9.97</td>\n",
       "      <td>12.75</td>\n",
       "      <td>10.38</td>\n",
       "    </tr>\n",
       "    <tr>\n",
       "      <th>50%</th>\n",
       "      <td>149.75</td>\n",
       "      <td>22.90</td>\n",
       "      <td>25.75</td>\n",
       "      <td>12.90</td>\n",
       "    </tr>\n",
       "    <tr>\n",
       "      <th>75%</th>\n",
       "      <td>218.82</td>\n",
       "      <td>36.52</td>\n",
       "      <td>45.10</td>\n",
       "      <td>17.40</td>\n",
       "    </tr>\n",
       "    <tr>\n",
       "      <th>max</th>\n",
       "      <td>296.40</td>\n",
       "      <td>49.60</td>\n",
       "      <td>114.00</td>\n",
       "      <td>27.00</td>\n",
       "    </tr>\n",
       "  </tbody>\n",
       "</table>\n",
       "</div>"
      ],
      "text/plain": [
       "          TV  radio  newspaper  sales\n",
       "count 200.00 200.00     200.00 200.00\n",
       "mean  147.04  23.26      30.55  14.02\n",
       "std    85.85  14.85      21.78   5.22\n",
       "min     0.70   0.00       0.30   1.60\n",
       "25%    74.38   9.97      12.75  10.38\n",
       "50%   149.75  22.90      25.75  12.90\n",
       "75%   218.82  36.52      45.10  17.40\n",
       "max   296.40  49.60     114.00  27.00"
      ]
     },
     "execution_count": 7,
     "metadata": {},
     "output_type": "execute_result"
    }
   ],
   "source": [
    "df.describe()"
   ]
  },
  {
   "cell_type": "markdown",
   "id": "54920283",
   "metadata": {},
   "source": [
    "mean & median of all column are almost same\n",
    "There is huge variance in quartile range of all columns which means there are chances of outliers present in them "
   ]
  },
  {
   "cell_type": "markdown",
   "id": "9a556777",
   "metadata": {},
   "source": [
    "#### Checking Correlation"
   ]
  },
  {
   "cell_type": "code",
   "execution_count": 8,
   "id": "73c48698",
   "metadata": {
    "scrolled": false
   },
   "outputs": [
    {
     "data": {
      "text/plain": [
       "TV          0.78\n",
       "radio       0.58\n",
       "newspaper   0.23\n",
       "sales       1.00\n",
       "Name: sales, dtype: float64"
      ]
     },
     "execution_count": 8,
     "metadata": {},
     "output_type": "execute_result"
    }
   ],
   "source": [
    "df.corr()['sales']"
   ]
  },
  {
   "cell_type": "code",
   "execution_count": 9,
   "id": "42c8b9fd",
   "metadata": {},
   "outputs": [
    {
     "data": {
      "text/plain": [
       "<AxesSubplot:>"
      ]
     },
     "execution_count": 9,
     "metadata": {},
     "output_type": "execute_result"
    },
    {
     "data": {
      "image/png": "[encoded data removed]",
      "text/plain": [
       "<Figure size 360x360 with 2 Axes>"
      ]
     },
     "metadata": {
      "needs_background": "light"
     },
     "output_type": "display_data"
    }
   ],
   "source": [
    "plt.figure(figsize=[5,5])\n",
    "sns.heatmap(df.corr(),annot=True,cmap='Blues')"
   ]
  },
  {
   "cell_type": "markdown",
   "id": "eb1dedd3",
   "metadata": {},
   "source": [
    "tv is most correlated with sales"
   ]
  },
  {
   "cell_type": "markdown",
   "id": "1f5d7580",
   "metadata": {},
   "source": [
    "#### check normal distribution"
   ]
  },
  {
   "cell_type": "code",
   "execution_count": 10,
   "id": "74ad74e1",
   "metadata": {
    "scrolled": true
   },
   "outputs": [
    {
     "data": {
      "image/png": "[encoded data removed]",
      "text/plain": [
       "<Figure size 1440x1800 with 4 Axes>"
      ]
     },
     "metadata": {},
     "output_type": "display_data"
    }
   ],
   "source": [
    "plt.figure(figsize=(20,25),facecolor='white')\n",
    "plotnumber=1\n",
    "for column in df.columns:\n",
    "    if plotnumber<=12:\n",
    "        ax=plt.subplot(4,4,plotnumber)\n",
    "        sns.distplot(df[column])\n",
    "        plt.xlabel(column,fontsize=20)\n",
    "    plotnumber+=1\n",
    "plt.show()"
   ]
  },
  {
   "cell_type": "markdown",
   "id": "59253d36",
   "metadata": {},
   "source": [
    "###### newspaper and sales column have normal dist plot. newspaper has positive bias in it. tv is a bimodal plot. radio is close to rectangular plot"
   ]
  },
  {
   "cell_type": "code",
   "execution_count": 11,
   "id": "545001bb",
   "metadata": {},
   "outputs": [
    {
     "data": {
      "image/png": "[encoded data removed]",
      "text/plain": [
       "<Figure size 1440x1800 with 4 Axes>"
      ]
     },
     "metadata": {},
     "output_type": "display_data"
    }
   ],
   "source": [
    "plt.figure(figsize=(20,25),facecolor='white')\n",
    "plotnumber=1\n",
    "for i in df.columns:\n",
    "    if plotnumber<=12:\n",
    "        ax=plt.subplot(4,4,plotnumber)\n",
    "        plt.scatter(df[i],df['sales'])\n",
    "        plt.xlabel(i,fontsize=20)\n",
    "        plt.ylabel('sales',fontsize=20)\n",
    "    plotnumber+=1\n",
    "plt.show()"
   ]
  },
  {
   "cell_type": "markdown",
   "id": "70ebdad2",
   "metadata": {},
   "source": [
    "###### tv and radio have proper linear relation with sales column. newspaper datapoints are scattered with respect to sales column"
   ]
  },
  {
   "cell_type": "code",
   "execution_count": 12,
   "id": "c9e76842",
   "metadata": {},
   "outputs": [
    {
     "data": {
      "text/html": [
       "<div>\n",
       "<style scoped>\n",
       "    .dataframe tbody tr th:only-of-type {\n",
       "        vertical-align: middle;\n",
       "    }\n",
       "\n",
       "    .dataframe tbody tr th {\n",
       "        vertical-align: top;\n",
       "    }\n",
       "\n",
       "    .dataframe thead th {\n",
       "        text-align: right;\n",
       "    }\n",
       "</style>\n",
       "<table border=\"1\" class=\"dataframe\">\n",
       "  <thead>\n",
       "    <tr style=\"text-align: right;\">\n",
       "      <th></th>\n",
       "      <th>TV</th>\n",
       "      <th>radio</th>\n",
       "      <th>sales</th>\n",
       "    </tr>\n",
       "  </thead>\n",
       "  <tbody>\n",
       "    <tr>\n",
       "      <th>0</th>\n",
       "      <td>230.10</td>\n",
       "      <td>37.80</td>\n",
       "      <td>22.10</td>\n",
       "    </tr>\n",
       "    <tr>\n",
       "      <th>1</th>\n",
       "      <td>44.50</td>\n",
       "      <td>39.30</td>\n",
       "      <td>10.40</td>\n",
       "    </tr>\n",
       "    <tr>\n",
       "      <th>2</th>\n",
       "      <td>17.20</td>\n",
       "      <td>45.90</td>\n",
       "      <td>9.30</td>\n",
       "    </tr>\n",
       "    <tr>\n",
       "      <th>3</th>\n",
       "      <td>151.50</td>\n",
       "      <td>41.30</td>\n",
       "      <td>18.50</td>\n",
       "    </tr>\n",
       "    <tr>\n",
       "      <th>4</th>\n",
       "      <td>180.80</td>\n",
       "      <td>10.80</td>\n",
       "      <td>12.90</td>\n",
       "    </tr>\n",
       "    <tr>\n",
       "      <th>...</th>\n",
       "      <td>...</td>\n",
       "      <td>...</td>\n",
       "      <td>...</td>\n",
       "    </tr>\n",
       "    <tr>\n",
       "      <th>195</th>\n",
       "      <td>38.20</td>\n",
       "      <td>3.70</td>\n",
       "      <td>7.60</td>\n",
       "    </tr>\n",
       "    <tr>\n",
       "      <th>196</th>\n",
       "      <td>94.20</td>\n",
       "      <td>4.90</td>\n",
       "      <td>9.70</td>\n",
       "    </tr>\n",
       "    <tr>\n",
       "      <th>197</th>\n",
       "      <td>177.00</td>\n",
       "      <td>9.30</td>\n",
       "      <td>12.80</td>\n",
       "    </tr>\n",
       "    <tr>\n",
       "      <th>198</th>\n",
       "      <td>283.60</td>\n",
       "      <td>42.00</td>\n",
       "      <td>25.50</td>\n",
       "    </tr>\n",
       "    <tr>\n",
       "      <th>199</th>\n",
       "      <td>232.10</td>\n",
       "      <td>8.60</td>\n",
       "      <td>13.40</td>\n",
       "    </tr>\n",
       "  </tbody>\n",
       "</table>\n",
       "<p>200 rows × 3 columns</p>\n",
       "</div>"
      ],
      "text/plain": [
       "        TV  radio  sales\n",
       "0   230.10  37.80  22.10\n",
       "1    44.50  39.30  10.40\n",
       "2    17.20  45.90   9.30\n",
       "3   151.50  41.30  18.50\n",
       "4   180.80  10.80  12.90\n",
       "..     ...    ...    ...\n",
       "195  38.20   3.70   7.60\n",
       "196  94.20   4.90   9.70\n",
       "197 177.00   9.30  12.80\n",
       "198 283.60  42.00  25.50\n",
       "199 232.10   8.60  13.40\n",
       "\n",
       "[200 rows x 3 columns]"
      ]
     },
     "execution_count": 12,
     "metadata": {},
     "output_type": "execute_result"
    }
   ],
   "source": [
    "df=df.drop(['newspaper'],axis=1)\n",
    "df"
   ]
  },
  {
   "cell_type": "markdown",
   "id": "46a3c239",
   "metadata": {},
   "source": [
    "###### newspaper has lowest correlation so it can be dropped"
   ]
  },
  {
   "cell_type": "markdown",
   "id": "263b0cab",
   "metadata": {},
   "source": [
    "#### checking outliers"
   ]
  },
  {
   "cell_type": "code",
   "execution_count": 13,
   "id": "7a17d940",
   "metadata": {},
   "outputs": [
    {
     "data": {
      "text/plain": [
       "TV          AxesSubplot(0.125,0.125;0.227941x0.755)\n",
       "radio    AxesSubplot(0.398529,0.125;0.227941x0.755)\n",
       "sales    AxesSubplot(0.672059,0.125;0.227941x0.755)\n",
       "dtype: object"
      ]
     },
     "execution_count": 13,
     "metadata": {},
     "output_type": "execute_result"
    },
    {
     "data": {
      "image/png": "[encoded data removed]",
      "text/plain": [
       "<Figure size 432x288 with 3 Axes>"
      ]
     },
     "metadata": {
      "needs_background": "light"
     },
     "output_type": "display_data"
    }
   ],
   "source": [
    "df.plot(kind='box',subplots=True,layout=(1,3))"
   ]
  },
  {
   "cell_type": "markdown",
   "id": "b9bdcf42",
   "metadata": {},
   "source": [
    "##### no outliers present \n",
    "check for multicolinearity"
   ]
  },
  {
   "cell_type": "code",
   "execution_count": 15,
   "id": "962a89d1",
   "metadata": {},
   "outputs": [
    {
     "data": {
      "text/html": [
       "<div>\n",
       "<style scoped>\n",
       "    .dataframe tbody tr th:only-of-type {\n",
       "        vertical-align: middle;\n",
       "    }\n",
       "\n",
       "    .dataframe tbody tr th {\n",
       "        vertical-align: top;\n",
       "    }\n",
       "\n",
       "    .dataframe thead th {\n",
       "        text-align: right;\n",
       "    }\n",
       "</style>\n",
       "<table border=\"1\" class=\"dataframe\">\n",
       "  <thead>\n",
       "    <tr style=\"text-align: right;\">\n",
       "      <th></th>\n",
       "      <th>vif</th>\n",
       "      <th>Features</th>\n",
       "    </tr>\n",
       "  </thead>\n",
       "  <tbody>\n",
       "    <tr>\n",
       "      <th>0</th>\n",
       "      <td>2.24</td>\n",
       "      <td>TV</td>\n",
       "    </tr>\n",
       "    <tr>\n",
       "      <th>1</th>\n",
       "      <td>2.24</td>\n",
       "      <td>radio</td>\n",
       "    </tr>\n",
       "  </tbody>\n",
       "</table>\n",
       "</div>"
      ],
      "text/plain": [
       "   vif Features\n",
       "0 2.24       TV\n",
       "1 2.24    radio"
      ]
     },
     "execution_count": 15,
     "metadata": {},
     "output_type": "execute_result"
    }
   ],
   "source": [
    "from statsmodels.stats.outliers_influence import variance_inflation_factor\n",
    "vif = pd.DataFrame()\n",
    "vif[\"vif\"] = [variance_inflation_factor(df.drop(['sales'],axis=1).values,i) for i in range(df.drop(['sales'],axis=1).shape[1])]\n",
    "vif[\"Features\"] = df.drop(['sales'],axis=1).columns\n",
    "vif"
   ]
  },
  {
   "cell_type": "markdown",
   "id": "54d19b40",
   "metadata": {},
   "source": [
    "##### no multicollinearity present"
   ]
  },
  {
   "cell_type": "code",
   "execution_count": 17,
   "id": "72db947c",
   "metadata": {},
   "outputs": [],
   "source": [
    "y = df[['sales']]\n",
    "x = df.drop(columns = ['sales'],axis=1)"
   ]
  },
  {
   "cell_type": "markdown",
   "id": "3ec5bbdf",
   "metadata": {},
   "source": [
    "###### check for biasing "
   ]
  },
  {
   "cell_type": "code",
   "execution_count": 18,
   "id": "2e6805d9",
   "metadata": {},
   "outputs": [
    {
     "name": "stdout",
     "output_type": "stream",
     "text": [
      "TV      -0.07\n",
      "radio    0.09\n",
      "dtype: float64\n",
      "0\n"
     ]
    }
   ],
   "source": [
    "print(x.skew())\n",
    "print(len(x.skew().loc[x.skew()>0.55]))"
   ]
  },
  {
   "cell_type": "markdown",
   "id": "5eed430d",
   "metadata": {},
   "source": [
    "###### no biasing"
   ]
  },
  {
   "cell_type": "markdown",
   "id": "bc163019",
   "metadata": {},
   "source": [
    "###### feature scaling"
   ]
  },
  {
   "cell_type": "code",
   "execution_count": 19,
   "id": "dcdc3203",
   "metadata": {},
   "outputs": [],
   "source": [
    "scaler = StandardScaler()\n",
    "X_scaled = scaler.fit_transform(x)"
   ]
  },
  {
   "cell_type": "markdown",
   "id": "beb6a744",
   "metadata": {},
   "source": [
    "##### finding best random state"
   ]
  },
  {
   "cell_type": "code",
   "execution_count": 21,
   "id": "5f8e7308",
   "metadata": {},
   "outputs": [
    {
     "name": "stdout",
     "output_type": "stream",
     "text": [
      "best r2 score is 0.940187626114006 on random state 154\n"
     ]
    }
   ],
   "source": [
    "maxAccu=0\n",
    "maxRS=0\n",
    "for i in range(1,200):\n",
    "    x_train,x_test,y_train,y_test=train_test_split(X_scaled,y,test_size=.30,random_state=i)\n",
    "    mod= LinearRegression()\n",
    "    mod.fit(x_train,y_train)\n",
    "    pred=mod.predict(x_test)\n",
    "    acc=r2_score(y_test,pred)\n",
    "    if acc>maxAccu:\n",
    "        maxAccu=acc\n",
    "        maxRS=i\n",
    "print ('best r2 score is',maxAccu,'on random state',maxRS)"
   ]
  },
  {
   "cell_type": "code",
   "execution_count": 22,
   "id": "6d661e12",
   "metadata": {},
   "outputs": [
    {
     "name": "stdout",
     "output_type": "stream",
     "text": [
      "(140, 2)\n",
      "(60, 2)\n",
      "(140, 1)\n",
      "(60, 1)\n"
     ]
    }
   ],
   "source": [
    "x_train,x_test,y_train,y_test=train_test_split(X_scaled,y,test_size=.30,random_state=maxRS)\n",
    "print(x_train.shape)\n",
    "print(x_test.shape)\n",
    "print(y_train.shape)\n",
    "print(y_test.shape)"
   ]
  },
  {
   "cell_type": "markdown",
   "id": "d08f94b9",
   "metadata": {},
   "source": [
    "##### 70% of the data (140 rows) will be available for training the model & 30% (60 rows) will be available for testing the model"
   ]
  },
  {
   "cell_type": "markdown",
   "id": "a393d2a1",
   "metadata": {},
   "source": [
    "### Model Building & Evaluation"
   ]
  },
  {
   "cell_type": "code",
   "execution_count": 24,
   "id": "7f800a9d",
   "metadata": {},
   "outputs": [
    {
     "data": {
      "text/plain": [
       "1.0"
      ]
     },
     "execution_count": 24,
     "metadata": {},
     "output_type": "execute_result"
    }
   ],
   "source": [
    "etr=ExtraTreeRegressor()\n",
    "etr.fit(x_train,y_train)\n",
    "etr.score(x_train,y_train)"
   ]
  },
  {
   "cell_type": "code",
   "execution_count": 28,
   "id": "a587388a",
   "metadata": {},
   "outputs": [
    {
     "name": "stdout",
     "output_type": "stream",
     "text": [
      "Coefficient of determination 0.9714919860894267\n",
      "mean absolute error 0.7116666666666667\n",
      "mean squarred error 0.8904999999999998\n",
      "Root mean square error 0.9436630754670863\n"
     ]
    }
   ],
   "source": [
    "pred=etr.predict(x_test)\n",
    "print('Coefficient of determination',r2_score(y_test,pred))\n",
    "print('mean absolute error',mean_absolute_error(y_test,pred))\n",
    "print('mean squarred error',mean_squared_error(y_test,pred))\n",
    "print('Root mean square error',np.sqrt(mean_squared_error(y_test,pred)))"
   ]
  },
  {
   "cell_type": "code",
   "execution_count": 30,
   "id": "64fe414b",
   "metadata": {},
   "outputs": [
    {
     "data": {
      "text/plain": [
       "0.9960501330088226"
      ]
     },
     "execution_count": 30,
     "metadata": {},
     "output_type": "execute_result"
    }
   ],
   "source": [
    "rf=RandomForestRegressor()\n",
    "rf.fit(x_train,y_train)\n",
    "rf.score(x_train,y_train)"
   ]
  },
  {
   "cell_type": "code",
   "execution_count": 31,
   "id": "4a923c05",
   "metadata": {},
   "outputs": [
    {
     "name": "stdout",
     "output_type": "stream",
     "text": [
      "Coefficient of determination 0.9876328153935806\n",
      "mean absolute error 0.45355\n",
      "mean squarred error 0.38631164999999895\n",
      "Root mean square error 0.6215397412877144\n"
     ]
    }
   ],
   "source": [
    "pred=rf.predict(x_test)\n",
    "print('Coefficient of determination',r2_score(y_test,pred))\n",
    "print('mean absolute error',mean_absolute_error(y_test,pred))\n",
    "print('mean squarred error',mean_squared_error(y_test,pred))\n",
    "print('Root mean square error',np.sqrt(mean_squared_error(y_test,pred)))"
   ]
  },
  {
   "cell_type": "code",
   "execution_count": 32,
   "id": "dae5a4b1",
   "metadata": {},
   "outputs": [
    {
     "data": {
      "text/plain": [
       "0.9948982436396107"
      ]
     },
     "execution_count": 32,
     "metadata": {},
     "output_type": "execute_result"
    }
   ],
   "source": [
    "bg=BaggingRegressor()\n",
    "bg.fit(x_train,y_train)\n",
    "bg.score(x_train,y_train)"
   ]
  },
  {
   "cell_type": "code",
   "execution_count": 33,
   "id": "a02e8a43",
   "metadata": {},
   "outputs": [
    {
     "name": "stdout",
     "output_type": "stream",
     "text": [
      "Coefficient of determination 0.9870473414618551\n",
      "mean absolute error 0.5066666666666669\n",
      "mean squarred error 0.4045999999999997\n",
      "Root mean square error 0.6360817557515698\n"
     ]
    }
   ],
   "source": [
    "pred=bg.predict(x_test)\n",
    "print('Coefficient of determination',r2_score(y_test,pred))\n",
    "print('mean absolute error',mean_absolute_error(y_test,pred))\n",
    "print('mean squarred error',mean_squared_error(y_test,pred))\n",
    "print('Root mean square error',np.sqrt(mean_squared_error(y_test,pred)))"
   ]
  },
  {
   "cell_type": "code",
   "execution_count": 34,
   "id": "71a372ca",
   "metadata": {},
   "outputs": [
    {
     "data": {
      "text/plain": [
       "0.9985306934242045"
      ]
     },
     "execution_count": 34,
     "metadata": {},
     "output_type": "execute_result"
    }
   ],
   "source": [
    "gb=GradientBoostingRegressor()\n",
    "gb.fit(x_train,y_train)\n",
    "gb.score(x_train,y_train)"
   ]
  },
  {
   "cell_type": "code",
   "execution_count": 35,
   "id": "58498ff1",
   "metadata": {},
   "outputs": [
    {
     "name": "stdout",
     "output_type": "stream",
     "text": [
      "Coefficient of determination 0.9796016122547186\n",
      "mean absolute error 0.5872013928579006\n",
      "mean squarred error 0.6371809816058757\n",
      "Root mean square error 0.7982361690664459\n"
     ]
    }
   ],
   "source": [
    "pred=gb.predict(x_test)\n",
    "print('Coefficient of determination',r2_score(y_test,pred))\n",
    "print('mean absolute error',mean_absolute_error(y_test,pred))\n",
    "print('mean squarred error',mean_squared_error(y_test,pred))\n",
    "print('Root mean square error',np.sqrt(mean_squared_error(y_test,pred)))"
   ]
  },
  {
   "cell_type": "code",
   "execution_count": 38,
   "id": "f0379bfd",
   "metadata": {},
   "outputs": [
    {
     "data": {
      "text/plain": [
       "0.9744700396858461"
      ]
     },
     "execution_count": 38,
     "metadata": {},
     "output_type": "execute_result"
    }
   ],
   "source": [
    "kn=KNeighborsRegressor()\n",
    "kn.fit(x_train,y_train)\n",
    "kn.score(x_train,y_train)"
   ]
  },
  {
   "cell_type": "code",
   "execution_count": 39,
   "id": "6e901665",
   "metadata": {},
   "outputs": [
    {
     "name": "stdout",
     "output_type": "stream",
     "text": [
      "Coefficient of determination 0.9768433612778505\n",
      "mean absolute error 0.5883333333333329\n",
      "mean squarred error 0.7233399999999999\n",
      "Root mean square error 0.850493974111516\n"
     ]
    }
   ],
   "source": [
    "pred=kn.predict(x_test)\n",
    "print('Coefficient of determination',r2_score(y_test,pred))\n",
    "print('mean absolute error',mean_absolute_error(y_test,pred))\n",
    "print('mean squarred error',mean_squared_error(y_test,pred))\n",
    "print('Root mean square error',np.sqrt(mean_squared_error(y_test,pred)))"
   ]
  },
  {
   "cell_type": "markdown",
   "id": "443ea056",
   "metadata": {},
   "source": [
    "based on R2 score and other evaluation parameter such as MAE, MSE,RMSE , Random forest regression is best model"
   ]
  },
  {
   "cell_type": "markdown",
   "id": "b80fd9c0",
   "metadata": {},
   "source": [
    "### Cross Validation to imporve model accuracy"
   ]
  },
  {
   "cell_type": "code",
   "execution_count": 40,
   "id": "6a5fda84",
   "metadata": {},
   "outputs": [
    {
     "name": "stdout",
     "output_type": "stream",
     "text": [
      "[0.92171382 0.97380234 0.92287623 0.95447457 0.96630651]\n",
      "0.9478346950076924 0.02174782614543627\n"
     ]
    }
   ],
   "source": [
    "etrscores =cross_val_score(etr,X_scaled,y,cv=5)\n",
    "print(etrscores)\n",
    "print(etrscores.mean(),etrscores.std())"
   ]
  },
  {
   "cell_type": "code",
   "execution_count": 41,
   "id": "c3cfe7e9",
   "metadata": {},
   "outputs": [
    {
     "name": "stdout",
     "output_type": "stream",
     "text": [
      "[0.9827121  0.98626837 0.96958832 0.96161115 0.98568093]\n",
      "0.9771721708819154 0.009853840163703333\n"
     ]
    }
   ],
   "source": [
    "rfscores =cross_val_score(rf,X_scaled,y,cv=5)\n",
    "print(rfscores)\n",
    "print(rfscores.mean(),rfscores.std())"
   ]
  },
  {
   "cell_type": "code",
   "execution_count": 42,
   "id": "e9ab615d",
   "metadata": {},
   "outputs": [
    {
     "name": "stdout",
     "output_type": "stream",
     "text": [
      "[0.97870943 0.98274707 0.97055109 0.95382542 0.98194323]\n",
      "0.9735552468072308 0.01076758570452507\n"
     ]
    }
   ],
   "source": [
    "bgscores =cross_val_score(bg,X_scaled,y,cv=5)\n",
    "print(bgscores)\n",
    "print(bgscores.mean(),bgscores.std())"
   ]
  },
  {
   "cell_type": "code",
   "execution_count": 43,
   "id": "a9e55533",
   "metadata": {},
   "outputs": [
    {
     "name": "stdout",
     "output_type": "stream",
     "text": [
      "[0.9833708  0.98672401 0.96728806 0.96580283 0.98926287]\n",
      "0.9784897130272091 0.009941059792986252\n"
     ]
    }
   ],
   "source": [
    "gbscores =cross_val_score(gb,X_scaled,y,cv=5)\n",
    "print(gbscores)\n",
    "print(gbscores.mean(),gbscores.std())"
   ]
  },
  {
   "cell_type": "code",
   "execution_count": 44,
   "id": "6d0f75d1",
   "metadata": {},
   "outputs": [
    {
     "name": "stdout",
     "output_type": "stream",
     "text": [
      "[0.98470644 0.97295648 0.97716913 0.91436911 0.98492547]\n",
      "0.9668253236630152 0.026621755702870138\n"
     ]
    }
   ],
   "source": [
    "knscores =cross_val_score(kn,X_scaled,y,cv=5)\n",
    "print(knscores)\n",
    "print(knscores.mean(),knscores.std())"
   ]
  },
  {
   "cell_type": "markdown",
   "id": "a904d933",
   "metadata": {},
   "source": [
    "##### the difference between the accuracy score of algorithim before and after the cross validation is minimum in RandomForestRegressor"
   ]
  },
  {
   "cell_type": "markdown",
   "id": "39322fcf",
   "metadata": {},
   "source": [
    "### HyperParameter tuning"
   ]
  },
  {
   "cell_type": "code",
   "execution_count": 45,
   "id": "c955f5f1",
   "metadata": {},
   "outputs": [],
   "source": [
    "parameter={'max_depth':np.arange(1,10),'criterion':['mse', 'mae'],'max_features':['auto', 'sqrt', 'log2']}"
   ]
  },
  {
   "cell_type": "code",
   "execution_count": 46,
   "id": "1179a4e4",
   "metadata": {},
   "outputs": [],
   "source": [
    "GCV=GridSearchCV(RandomForestRegressor(),parameter,cv=5)"
   ]
  },
  {
   "cell_type": "code",
   "execution_count": 47,
   "id": "55ffc8a9",
   "metadata": {},
   "outputs": [
    {
     "data": {
      "text/plain": [
       "GridSearchCV(cv=5, estimator=RandomForestRegressor(),\n",
       "             param_grid={'criterion': ['mse', 'mae'],\n",
       "                         'max_depth': array([1, 2, 3, 4, 5, 6, 7, 8, 9]),\n",
       "                         'max_features': ['auto', 'sqrt', 'log2']})"
      ]
     },
     "execution_count": 47,
     "metadata": {},
     "output_type": "execute_result"
    }
   ],
   "source": [
    "GCV.fit(x_train,y_train)"
   ]
  },
  {
   "cell_type": "code",
   "execution_count": 48,
   "id": "01bd4fde",
   "metadata": {},
   "outputs": [
    {
     "data": {
      "text/plain": [
       "{'criterion': 'mae', 'max_depth': 8, 'max_features': 'auto'}"
      ]
     },
     "execution_count": 48,
     "metadata": {},
     "output_type": "execute_result"
    }
   ],
   "source": [
    "GCV.best_params_"
   ]
  },
  {
   "cell_type": "code",
   "execution_count": 52,
   "id": "2dbf0266",
   "metadata": {},
   "outputs": [
    {
     "name": "stdout",
     "output_type": "stream",
     "text": [
      "best r2 score is 0.9917695972250048 on random state 112\n"
     ]
    }
   ],
   "source": [
    "maxAccu=0\n",
    "maxRS=0\n",
    "for i in range(1,200):\n",
    "    x_train,x_test,y_train,y_test=train_test_split(X_scaled,y,test_size=.20,random_state=i)\n",
    "    mod= RandomForestRegressor()\n",
    "    mod.fit(x_train,y_train)\n",
    "    pred=mod.predict(x_test)\n",
    "    acc=r2_score(y_test,pred)\n",
    "    if acc>maxAccu:\n",
    "        maxAccu=acc\n",
    "        maxRS=i\n",
    "print ('best r2 score is',maxAccu,'on random state',maxRS)"
   ]
  },
  {
   "cell_type": "code",
   "execution_count": 53,
   "id": "52d407cf",
   "metadata": {},
   "outputs": [
    {
     "name": "stdout",
     "output_type": "stream",
     "text": [
      "coeff of determination is: 0.9895536105420705\n",
      "mean absolute error: 0.4095250000000014\n",
      "mean squared error: 0.27992608750000136\n",
      "root mean square error: 0.5290804168555111\n",
      "cross val score 0.979209559589204\n",
      "std err 0.01100278554127995\n"
     ]
    }
   ],
   "source": [
    "x_train,x_test,y_train,y_test=train_test_split(X_scaled, y,random_state = 112,test_size=0.20,shuffle=True)\n",
    "model=RandomForestRegressor(max_depth=8,criterion='mae',max_features='auto')\n",
    "model.fit(x_train,y_train)\n",
    "y_pred=model.predict(x_test)\n",
    "score=r2_score(y_test,y_pred)\n",
    "print('coeff of determination is:',score)\n",
    "print('mean absolute error:',mean_absolute_error(y_test,y_pred))\n",
    "print('mean squared error:',mean_squared_error(y_test,y_pred))\n",
    "print('root mean square error:',np.sqrt(mean_squared_error(y_test,y_pred)))\n",
    "scores =cross_val_score(model,x,y,cv=5)\n",
    "print('cross val score',scores.mean())\n",
    "print('std err',scores.std())"
   ]
  },
  {
   "cell_type": "markdown",
   "id": "f2f6182f",
   "metadata": {},
   "source": [
    "### Saving the best Model"
   ]
  },
  {
   "cell_type": "code",
   "execution_count": 55,
   "id": "d2f0a839",
   "metadata": {},
   "outputs": [
    {
     "data": {
      "text/plain": [
       "['SalesPrediction.obj']"
      ]
     },
     "execution_count": 55,
     "metadata": {},
     "output_type": "execute_result"
    }
   ],
   "source": [
    "joblib.dump(model,'SalesPrediction.obj')"
   ]
  }
 ],
 "metadata": {
  "kernelspec": {
   "display_name": "Python 3",
   "language": "python",
   "name": "python3"
  },
  "language_info": {
   "codemirror_mode": {
    "name": "ipython",
    "version": 3
   },
   "file_extension": ".py",
   "mimetype": "text/x-python",
   "name": "python",
   "nbconvert_exporter": "python",
   "pygments_lexer": "ipython3",
   "version": "3.8.11"
  }
 },
 "nbformat": 4,
 "nbformat_minor": 5
}
